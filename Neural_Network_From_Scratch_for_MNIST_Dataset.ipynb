{
  "nbformat": 4,
  "nbformat_minor": 0,
  "metadata": {
    "colab": {
      "provenance": [],
      "authorship_tag": "ABX9TyMnk0VsHUAcbwjGYNOw6t1w",
      "include_colab_link": true
    },
    "kernelspec": {
      "name": "python3",
      "display_name": "Python 3"
    },
    "language_info": {
      "name": "python"
    }
  },
  "cells": [
    {
      "cell_type": "markdown",
      "metadata": {
        "id": "view-in-github",
        "colab_type": "text"
      },
      "source": [
        "<a href=\"https://colab.research.google.com/github/sumukhbhat12/Neural-Network-From-Scratch-MNIST-Dataset/blob/main/Neural_Network_From_Scratch_for_MNIST_Dataset.ipynb\" target=\"_parent\"><img src=\"https://colab.research.google.com/assets/colab-badge.svg\" alt=\"Open In Colab\"/></a>"
      ]
    },
    {
      "cell_type": "markdown",
      "source": [
        "MNIST Dataset: https://www.kaggle.com/datasets/oddrationale/mnist-in-csv\n",
        "\n",
        "\n",
        "The mnist_train.csv file contains the 60,000 training examples and labels. The mnist_test.csv contains 10,000 test examples and labels. Each row consists of 785 values: the first value is the label (a number from 0 to 9) and the remaining 784 values are the pixel values (a number from 0 to 255)."
      ],
      "metadata": {
        "id": "LsmjhKmRvxuf"
      }
    },
    {
      "cell_type": "code",
      "execution_count": 56,
      "metadata": {
        "id": "imY9ny4gvBPM"
      },
      "outputs": [],
      "source": [
        "import numpy as np\n",
        "import pandas as pd"
      ]
    },
    {
      "cell_type": "markdown",
      "source": [
        "mnist_train.csv takes a long time to upload"
      ],
      "metadata": {
        "id": "cramOxlExb97"
      }
    },
    {
      "cell_type": "code",
      "source": [
        "train = pd.read_csv('/content/mnist_train.csv')\n",
        "test = pd.read_csv('/content/mnist_test.csv')"
      ],
      "metadata": {
        "id": "DRn4W2TovVUS"
      },
      "execution_count": 57,
      "outputs": []
    },
    {
      "cell_type": "code",
      "source": [
        "print(train.head())\n",
        "print(test.head())"
      ],
      "metadata": {
        "colab": {
          "base_uri": "https://localhost:8080/"
        },
        "id": "0TczPdQ4vhqO",
        "outputId": "83ccf8e2-d7af-405b-bd4a-19b47c8faf05"
      },
      "execution_count": 58,
      "outputs": [
        {
          "output_type": "stream",
          "name": "stdout",
          "text": [
            "   label  1x1  1x2  1x3  1x4  1x5  1x6  1x7  1x8  1x9  ...  28x19  28x20  \\\n",
            "0      5    0    0    0    0    0    0    0    0    0  ...      0      0   \n",
            "1      0    0    0    0    0    0    0    0    0    0  ...      0      0   \n",
            "2      4    0    0    0    0    0    0    0    0    0  ...      0      0   \n",
            "3      1    0    0    0    0    0    0    0    0    0  ...      0      0   \n",
            "4      9    0    0    0    0    0    0    0    0    0  ...      0      0   \n",
            "\n",
            "   28x21  28x22  28x23  28x24  28x25  28x26  28x27  28x28  \n",
            "0      0      0      0      0      0      0      0      0  \n",
            "1      0      0      0      0      0      0      0      0  \n",
            "2      0      0      0      0      0      0      0      0  \n",
            "3      0      0      0      0      0      0      0      0  \n",
            "4      0      0      0      0      0      0      0      0  \n",
            "\n",
            "[5 rows x 785 columns]\n",
            "   label  1x1  1x2  1x3  1x4  1x5  1x6  1x7  1x8  1x9  ...  28x19  28x20  \\\n",
            "0      7    0    0    0    0    0    0    0    0    0  ...      0      0   \n",
            "1      2    0    0    0    0    0    0    0    0    0  ...      0      0   \n",
            "2      1    0    0    0    0    0    0    0    0    0  ...      0      0   \n",
            "3      0    0    0    0    0    0    0    0    0    0  ...      0      0   \n",
            "4      4    0    0    0    0    0    0    0    0    0  ...      0      0   \n",
            "\n",
            "   28x21  28x22  28x23  28x24  28x25  28x26  28x27  28x28  \n",
            "0      0      0      0      0      0      0      0      0  \n",
            "1      0      0      0      0      0      0      0      0  \n",
            "2      0      0      0      0      0      0      0      0  \n",
            "3      0      0      0      0      0      0      0      0  \n",
            "4      0      0      0      0      0      0      0      0  \n",
            "\n",
            "[5 rows x 785 columns]\n"
          ]
        }
      ]
    },
    {
      "cell_type": "markdown",
      "source": [
        "convert dataframe into numpy array because numpy array is easier to work with for linear algebra"
      ],
      "metadata": {
        "id": "cjKrpmJowoDZ"
      }
    },
    {
      "cell_type": "code",
      "source": [
        "train = np.array(train)\n",
        "\n",
        "print(train[:10])"
      ],
      "metadata": {
        "colab": {
          "base_uri": "https://localhost:8080/"
        },
        "id": "DZOt4cXQwIdt",
        "outputId": "6b9c0c99-9a2a-4eb5-92af-e8a71a37b41a"
      },
      "execution_count": 59,
      "outputs": [
        {
          "output_type": "stream",
          "name": "stdout",
          "text": [
            "[[5 0 0 ... 0 0 0]\n",
            " [0 0 0 ... 0 0 0]\n",
            " [4 0 0 ... 0 0 0]\n",
            " ...\n",
            " [3 0 0 ... 0 0 0]\n",
            " [1 0 0 ... 0 0 0]\n",
            " [4 0 0 ... 0 0 0]]\n"
          ]
        }
      ]
    },
    {
      "cell_type": "code",
      "source": [
        "test = np.array(test)\n",
        "\n",
        "print(test)"
      ],
      "metadata": {
        "colab": {
          "base_uri": "https://localhost:8080/"
        },
        "id": "VcucCpgO0KGQ",
        "outputId": "dfbeb2ac-8fc5-479d-d659-190ce2bfc6fb"
      },
      "execution_count": 60,
      "outputs": [
        {
          "output_type": "stream",
          "name": "stdout",
          "text": [
            "[[7 0 0 ... 0 0 0]\n",
            " [2 0 0 ... 0 0 0]\n",
            " [1 0 0 ... 0 0 0]\n",
            " ...\n",
            " [4 0 0 ... 0 0 0]\n",
            " [5 0 0 ... 0 0 0]\n",
            " [6 0 0 ... 0 0 0]]\n"
          ]
        }
      ]
    },
    {
      "cell_type": "code",
      "source": [
        "m,n = train.shape\n",
        "print(m,n)"
      ],
      "metadata": {
        "colab": {
          "base_uri": "https://localhost:8080/"
        },
        "id": "8hqfEGeWw_gn",
        "outputId": "4b3d9a7d-efc0-4ecf-a8c4-8e4aee50c6cd"
      },
      "execution_count": 61,
      "outputs": [
        {
          "output_type": "stream",
          "name": "stdout",
          "text": [
            "60000 785\n"
          ]
        }
      ]
    },
    {
      "cell_type": "markdown",
      "source": [
        "transpose the numpy dataset, now the rows represent 784 pixels and 1 output and columns represent individual examples"
      ],
      "metadata": {
        "id": "_H-T-59zzmUH"
      }
    },
    {
      "cell_type": "code",
      "source": [
        "train = train.T\n",
        "print(train.shape)"
      ],
      "metadata": {
        "colab": {
          "base_uri": "https://localhost:8080/"
        },
        "id": "dRW0ZYQAzK6r",
        "outputId": "9e57f5b8-996f-4938-f8ad-c4442e935722"
      },
      "execution_count": 62,
      "outputs": [
        {
          "output_type": "stream",
          "name": "stdout",
          "text": [
            "(785, 60000)\n"
          ]
        }
      ]
    },
    {
      "cell_type": "code",
      "source": [
        "test = test.T\n",
        "print(test.shape)"
      ],
      "metadata": {
        "colab": {
          "base_uri": "https://localhost:8080/"
        },
        "id": "PHayjs6O0CQW",
        "outputId": "14add88f-0a36-42ae-942b-2ddd5de0e04d"
      },
      "execution_count": 63,
      "outputs": [
        {
          "output_type": "stream",
          "name": "stdout",
          "text": [
            "(785, 10000)\n"
          ]
        }
      ]
    },
    {
      "cell_type": "markdown",
      "source": [
        "extract the features (pixels) and the output"
      ],
      "metadata": {
        "id": "b_nKrJNF1CKJ"
      }
    },
    {
      "cell_type": "code",
      "source": [
        "X_train = train[1:]\n",
        "y_train = train[0]"
      ],
      "metadata": {
        "id": "ueVqnIZj0lFX"
      },
      "execution_count": 64,
      "outputs": []
    },
    {
      "cell_type": "code",
      "source": [
        "X_test = test[1:]\n",
        "y_test = test[0]"
      ],
      "metadata": {
        "id": "WA1oFL7L0xb8"
      },
      "execution_count": 65,
      "outputs": []
    },
    {
      "cell_type": "code",
      "source": [
        "print(X_train.shape, X_test.shape)"
      ],
      "metadata": {
        "colab": {
          "base_uri": "https://localhost:8080/"
        },
        "id": "wdybyUR_1SAu",
        "outputId": "a1490622-91e2-4e42-8ed6-39c0d42a3978"
      },
      "execution_count": 66,
      "outputs": [
        {
          "output_type": "stream",
          "name": "stdout",
          "text": [
            "(784, 60000) (784, 10000)\n"
          ]
        }
      ]
    },
    {
      "cell_type": "markdown",
      "source": [
        "#Neural Network"
      ],
      "metadata": {
        "id": "c-24WASI193a"
      }
    },
    {
      "cell_type": "markdown",
      "source": [
        "initialize parameters - weights and biases"
      ],
      "metadata": {
        "id": "Tts-hF_E2CtP"
      }
    },
    {
      "cell_type": "code",
      "source": [
        "def initialize_params():\n",
        "  #W1 is weights of input layer and the shape is 10x784 because there are 10 nodes in the hidden layer\n",
        "  W1 = np.random.randn(10, 784)\n",
        "\n",
        "  #b1 is the bias of input layer\n",
        "  b1 = np.random.randn(10, 1)\n",
        "\n",
        "  #W2 is weights of hidden layer and the shape is 10x10 because there are 10 nodes in the output layer\n",
        "  W2 = np.random.randn(10, 10)\n",
        "\n",
        "  b2 = np.random.randn(10, 1)\n",
        "\n",
        "  return W1, b1, W2, b2"
      ],
      "metadata": {
        "id": "UGIElU_t1phs"
      },
      "execution_count": 67,
      "outputs": []
    },
    {
      "cell_type": "markdown",
      "source": [
        "ReLu activation function\n",
        "\n",
        "\n",
        "f(x) = max(0, x)"
      ],
      "metadata": {
        "id": "TBaAPBV37vH_"
      }
    },
    {
      "cell_type": "code",
      "source": [
        "def relu(Z):\n",
        "  return np.max(0, Z)"
      ],
      "metadata": {
        "id": "EW-aRt9a7bit"
      },
      "execution_count": 68,
      "outputs": []
    },
    {
      "cell_type": "markdown",
      "source": [
        "Softmax function to convert the output into probability distribution\n",
        "\n",
        "\n",
        "![image.png](data:image/png;base64,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)"
      ],
      "metadata": {
        "id": "OzTOmZ6n8zyK"
      }
    },
    {
      "cell_type": "code",
      "source": [
        "def softmax(Z):\n",
        "  return np.exp(Z) / np.sum(np.exp(Z))  #collapses the rows to 1 row to calculate"
      ],
      "metadata": {
        "id": "oC_h8Zzg8dDO"
      },
      "execution_count": 69,
      "outputs": []
    },
    {
      "cell_type": "markdown",
      "source": [
        "Forward Propagation"
      ],
      "metadata": {
        "id": "3JhKjUSW6afW"
      }
    },
    {
      "cell_type": "code",
      "source": [
        "def forward_prop(W1, b1, W2, b2, X_train):\n",
        "  #X_train -> 784xm\n",
        "  Z1 = W1.dot(X_train) + b1  #W1 -> 10x784, Z1 -> 10xm\n",
        "\n",
        "  #A1 is the activated output of input layer which is fed as input to hidden layer\n",
        "  A1 = relu(Z1)   #A1 -> 10xm\n",
        "  Z2 = W2.dot(A1) + b2    #W2 -> 10x10, Z2 -> 10xm\n",
        "\n",
        "  #A2 is the output in terms of probability distribution\n",
        "  A2 = softmax(Z2)    #A2 -> 10xm\n",
        "\n",
        "  return Z1, A1, Z2, A2"
      ],
      "metadata": {
        "id": "D8sBht1b5_xJ"
      },
      "execution_count": 77,
      "outputs": []
    },
    {
      "cell_type": "code",
      "source": [
        "y_train.size"
      ],
      "metadata": {
        "colab": {
          "base_uri": "https://localhost:8080/"
        },
        "id": "83gZUd-jLhVz",
        "outputId": "15c5a733-e8f0-4814-de5e-811ad483fa0f"
      },
      "execution_count": 71,
      "outputs": [
        {
          "output_type": "execute_result",
          "data": {
            "text/plain": [
              "60000"
            ]
          },
          "metadata": {},
          "execution_count": 71
        }
      ]
    },
    {
      "cell_type": "markdown",
      "source": [
        "One Hot Encoding\n",
        "\n",
        "[2,1,3] -> [[0,0,1,0], [0,1,0,0], [0,0,0,1]]\n",
        "\n",
        "y[[0,1,2,3], [3,2,0,1]] = 1  -->  y[0,3] = 1, y[1,2] = 1, y[2,0] = 1 ..."
      ],
      "metadata": {
        "id": "Zi6QSHcpL-9t"
      }
    },
    {
      "cell_type": "code",
      "source": [
        "def one_hot_encode(y_train):\n",
        "  y = np.zeros((y_train.size, y_train.max() + 1)) #here 9 is max hence 60k arrays of 10 zeros will be returned\n",
        "  y[np.arange(y_train.size), y_train] = 1\n",
        "  y = y.T   #convert from m x 10 to 10 x m\n",
        "  return y"
      ],
      "metadata": {
        "id": "6M2etJu9K8th"
      },
      "execution_count": 72,
      "outputs": []
    },
    {
      "cell_type": "markdown",
      "source": [
        "derivative of ReLu activation function\n",
        "\n",
        "relu(z) is z if z > 0, 0 otherwise\n",
        "\n",
        "taking derivative of z we get 1 and derivative of 0 we get 0"
      ],
      "metadata": {
        "id": "UAVR8uphTZ_4"
      }
    },
    {
      "cell_type": "code",
      "source": [
        "def derivative_relu(Z):\n",
        "  return Z > 0"
      ],
      "metadata": {
        "id": "gjHuDM1FTZdz"
      },
      "execution_count": 73,
      "outputs": []
    },
    {
      "cell_type": "markdown",
      "source": [
        "backpropagation"
      ],
      "metadata": {
        "id": "41lcEuzLKhFV"
      }
    },
    {
      "cell_type": "markdown",
      "source": [
        "m is 60k here"
      ],
      "metadata": {
        "id": "8CQQfJuNRfVP"
      }
    },
    {
      "cell_type": "code",
      "source": [
        "def back_prop(Z1, A1, Z2, A2, W2, X_train, y_train):\n",
        "  y = one_hot_encode(y_train)\n",
        "\n",
        "  #dZ2 is the error = predicted - actual\n",
        "  dZ2 = A2 - y    #dZ2 -> 10xm\n",
        "\n",
        "  dW2 = 1/m * dZ2.dot(A1.T)   #A1 -> 10xm, dW2 -> 10x10\n",
        "\n",
        "  db2 = 1/m * np.sum(dZ2)   #db2 -> 10x1\n",
        "\n",
        "  dZ1 = W2.T.dot(dZ2) * derivative_relu(Z1)   #W2 -> 10x10, dZ2 -> 10xm, Z1 -> 10xm, dZ1 -> 10xm\n",
        "\n",
        "  dW1 = 1/m * dZ1.dot(X_train.T)   #dZ1 -> 10xm, A0 -> 784xm, dW1 -> 10x784\n",
        "\n",
        "  db1 = 1/m * np.sum(dZ1)   #dZ1 -> 10xm, db1 -> 10x1\n",
        "\n",
        "  return dW1, db1, dW2, db2"
      ],
      "metadata": {
        "id": "O5KlMIx6Kgid"
      },
      "execution_count": 78,
      "outputs": []
    },
    {
      "cell_type": "code",
      "source": [
        "W1, b1, W2, b2 = initialize_params()"
      ],
      "metadata": {
        "id": "dBY3ZCjuXP7R"
      },
      "execution_count": 75,
      "outputs": []
    },
    {
      "cell_type": "code",
      "source": [
        "Z1, A1, Z2, A2 = forward_prop(W1, b1, W2, b2, X_train)"
      ],
      "metadata": {
        "colab": {
          "base_uri": "https://localhost:8080/",
          "height": 329
        },
        "id": "UWGzj_UoW3k_",
        "outputId": "bba29251-f67c-4eac-b67f-93120374a176"
      },
      "execution_count": 79,
      "outputs": [
        {
          "output_type": "error",
          "ename": "TypeError",
          "evalue": "ignored",
          "traceback": [
            "\u001b[0;31m---------------------------------------------------------------------------\u001b[0m",
            "\u001b[0;31mTypeError\u001b[0m                                 Traceback (most recent call last)",
            "\u001b[0;32m<ipython-input-79-841e06afc27c>\u001b[0m in \u001b[0;36m<cell line: 1>\u001b[0;34m()\u001b[0m\n\u001b[0;32m----> 1\u001b[0;31m \u001b[0mZ1\u001b[0m\u001b[0;34m,\u001b[0m \u001b[0mA1\u001b[0m\u001b[0;34m,\u001b[0m \u001b[0mZ2\u001b[0m\u001b[0;34m,\u001b[0m \u001b[0mA2\u001b[0m \u001b[0;34m=\u001b[0m \u001b[0mforward_prop\u001b[0m\u001b[0;34m(\u001b[0m\u001b[0mW1\u001b[0m\u001b[0;34m,\u001b[0m \u001b[0mb1\u001b[0m\u001b[0;34m,\u001b[0m \u001b[0mW2\u001b[0m\u001b[0;34m,\u001b[0m \u001b[0mb2\u001b[0m\u001b[0;34m,\u001b[0m \u001b[0mX_train\u001b[0m\u001b[0;34m)\u001b[0m\u001b[0;34m\u001b[0m\u001b[0;34m\u001b[0m\u001b[0m\n\u001b[0m",
            "\u001b[0;32m<ipython-input-77-d7b900a6cb8c>\u001b[0m in \u001b[0;36mforward_prop\u001b[0;34m(W1, b1, W2, b2, X_train)\u001b[0m\n\u001b[1;32m      5\u001b[0m \u001b[0;34m\u001b[0m\u001b[0m\n\u001b[1;32m      6\u001b[0m   \u001b[0;31m#A1 is the activated output of input layer which is fed as input to hidden layer\u001b[0m\u001b[0;34m\u001b[0m\u001b[0;34m\u001b[0m\u001b[0m\n\u001b[0;32m----> 7\u001b[0;31m   \u001b[0mA1\u001b[0m \u001b[0;34m=\u001b[0m \u001b[0mrelu\u001b[0m\u001b[0;34m(\u001b[0m\u001b[0mZ1\u001b[0m\u001b[0;34m)\u001b[0m   \u001b[0;31m#A1 -> 10xm\u001b[0m\u001b[0;34m\u001b[0m\u001b[0;34m\u001b[0m\u001b[0m\n\u001b[0m\u001b[1;32m      8\u001b[0m   \u001b[0mZ2\u001b[0m \u001b[0;34m=\u001b[0m \u001b[0mW2\u001b[0m\u001b[0;34m.\u001b[0m\u001b[0mdot\u001b[0m\u001b[0;34m(\u001b[0m\u001b[0mA1\u001b[0m\u001b[0;34m)\u001b[0m \u001b[0;34m+\u001b[0m \u001b[0mb2\u001b[0m    \u001b[0;31m#W2 -> 10x10, Z2 -> 10xm\u001b[0m\u001b[0;34m\u001b[0m\u001b[0;34m\u001b[0m\u001b[0m\n\u001b[1;32m      9\u001b[0m \u001b[0;34m\u001b[0m\u001b[0m\n",
            "\u001b[0;32m<ipython-input-68-fdbb0d392f49>\u001b[0m in \u001b[0;36mrelu\u001b[0;34m(Z)\u001b[0m\n\u001b[1;32m      1\u001b[0m \u001b[0;32mdef\u001b[0m \u001b[0mrelu\u001b[0m\u001b[0;34m(\u001b[0m\u001b[0mZ\u001b[0m\u001b[0;34m)\u001b[0m\u001b[0;34m:\u001b[0m\u001b[0;34m\u001b[0m\u001b[0;34m\u001b[0m\u001b[0m\n\u001b[0;32m----> 2\u001b[0;31m   \u001b[0;32mreturn\u001b[0m \u001b[0mnp\u001b[0m\u001b[0;34m.\u001b[0m\u001b[0mmax\u001b[0m\u001b[0;34m(\u001b[0m\u001b[0;36m0\u001b[0m\u001b[0;34m,\u001b[0m \u001b[0mZ\u001b[0m\u001b[0;34m)\u001b[0m\u001b[0;34m\u001b[0m\u001b[0;34m\u001b[0m\u001b[0m\n\u001b[0m",
            "\u001b[0;32m/usr/local/lib/python3.10/dist-packages/numpy/core/overrides.py\u001b[0m in \u001b[0;36mamax\u001b[0;34m(*args, **kwargs)\u001b[0m\n",
            "\u001b[0;32m/usr/local/lib/python3.10/dist-packages/numpy/core/fromnumeric.py\u001b[0m in \u001b[0;36mamax\u001b[0;34m(a, axis, out, keepdims, initial, where)\u001b[0m\n\u001b[1;32m   2789\u001b[0m     \u001b[0;36m5\u001b[0m\u001b[0;34m\u001b[0m\u001b[0;34m\u001b[0m\u001b[0m\n\u001b[1;32m   2790\u001b[0m     \"\"\"\n\u001b[0;32m-> 2791\u001b[0;31m     return _wrapreduction(a, np.maximum, 'max', axis, None, out,\n\u001b[0m\u001b[1;32m   2792\u001b[0m                           keepdims=keepdims, initial=initial, where=where)\n\u001b[1;32m   2793\u001b[0m \u001b[0;34m\u001b[0m\u001b[0m\n",
            "\u001b[0;32m/usr/local/lib/python3.10/dist-packages/numpy/core/fromnumeric.py\u001b[0m in \u001b[0;36m_wrapreduction\u001b[0;34m(obj, ufunc, method, axis, dtype, out, **kwargs)\u001b[0m\n\u001b[1;32m     84\u001b[0m                 \u001b[0;32mreturn\u001b[0m \u001b[0mreduction\u001b[0m\u001b[0;34m(\u001b[0m\u001b[0maxis\u001b[0m\u001b[0;34m=\u001b[0m\u001b[0maxis\u001b[0m\u001b[0;34m,\u001b[0m \u001b[0mout\u001b[0m\u001b[0;34m=\u001b[0m\u001b[0mout\u001b[0m\u001b[0;34m,\u001b[0m \u001b[0;34m**\u001b[0m\u001b[0mpasskwargs\u001b[0m\u001b[0;34m)\u001b[0m\u001b[0;34m\u001b[0m\u001b[0;34m\u001b[0m\u001b[0m\n\u001b[1;32m     85\u001b[0m \u001b[0;34m\u001b[0m\u001b[0m\n\u001b[0;32m---> 86\u001b[0;31m     \u001b[0;32mreturn\u001b[0m \u001b[0mufunc\u001b[0m\u001b[0;34m.\u001b[0m\u001b[0mreduce\u001b[0m\u001b[0;34m(\u001b[0m\u001b[0mobj\u001b[0m\u001b[0;34m,\u001b[0m \u001b[0maxis\u001b[0m\u001b[0;34m,\u001b[0m \u001b[0mdtype\u001b[0m\u001b[0;34m,\u001b[0m \u001b[0mout\u001b[0m\u001b[0;34m,\u001b[0m \u001b[0;34m**\u001b[0m\u001b[0mpasskwargs\u001b[0m\u001b[0;34m)\u001b[0m\u001b[0;34m\u001b[0m\u001b[0;34m\u001b[0m\u001b[0m\n\u001b[0m\u001b[1;32m     87\u001b[0m \u001b[0;34m\u001b[0m\u001b[0m\n\u001b[1;32m     88\u001b[0m \u001b[0;34m\u001b[0m\u001b[0m\n",
            "\u001b[0;31mTypeError\u001b[0m: only integer scalar arrays can be converted to a scalar index"
          ]
        }
      ]
    }
  ]
}